{
 "cells": [
  {
   "cell_type": "markdown",
   "metadata": {},
   "source": [
    "# Molecular similarity network with displayed structures\n",
    "Code adapted from [Draw molecular network on Jupyter notebook with rdkit and cytoscape.js-2 #RDKit #cytoscape](https://iwatobipen.wordpress.com/2019/03/20/draw-molecular-network-on-jupyter-notebook-with-rdkit-and-cytoscape-js-2-rdkit-cytoscape/)  \n",
    "\n",
    "Activate RDkit environment and enable the cyjupyter extension before running Jupyter notebook:\n",
    "```bash\n",
    "$ source activate my-rdkit-env\n",
    "$ jupyter nbextension enable --py --sys-prefix cyjupyter\n",
    "```"
   ]
  },
  {
   "cell_type": "code",
   "execution_count": 115,
   "metadata": {},
   "outputs": [],
   "source": [
    "import networkx as nx\n",
    "from networkx.readwrite import cytoscape_data\n",
    "from rdkit import Chem\n",
    "from rdkit.Chem import RDConfig\n",
    "from rdkit.Chem import AllChem\n",
    "from rdkit.Chem import DataStructs\n",
    "from rdkit.Chem import rdChemReactions\n",
    "from rdkit.Chem.Draw import rdMolDraw2D\n",
    "from cyjupyter import Cytoscape\n",
    "import cyjupyter\n",
    "import os\n",
    "from urllib import parse"
   ]
  },
  {
   "cell_type": "code",
   "execution_count": 117,
   "metadata": {},
   "outputs": [],
   "source": [
    "# handle image conversion\n",
    "def smi2svg(smi):\n",
    "    mol = Chem.MolFromSmiles(smi)\n",
    "    try:\n",
    "        Chem.rdmolops.Kekulize(mol)\n",
    "    except:\n",
    "        pass\n",
    "    drawer = rdMolDraw2D.MolDraw2DSVG(400, 200)\n",
    "    AllChem.Compute2DCoords(mol)\n",
    "    drawer.DrawMolecule(mol)\n",
    "    drawer.FinishDrawing()\n",
    "    svg = drawer.GetDrawingText().replace(\"svg:\", \"\")\n",
    "    return svg\n",
    "\n",
    "def smi2image(smi):\n",
    "    svg_string = smi2svg(smi)\n",
    "    impath = 'data:image/svg+xml;charset=utf-8,' + parse.quote(svg_string, safe=\"\")\n",
    "    return impath"
   ]
  },
  {
   "cell_type": "code",
   "execution_count": 116,
   "metadata": {},
   "outputs": [
    {
     "name": "stdout",
     "output_type": "stream",
     "text": [
      "23 molecules loaded from SMILES file\n"
     ]
    }
   ],
   "source": [
    "# load SMILES file \n",
    "# format: 1st column SMILES | 2nd column compound name\n",
    "smis, nams = [], []\n",
    "with open(\"/home/yossa/notebook/cb/gtp+xtal.smi\", 'r') as smi_nam_list:\n",
    "    for smi_nam in smi_nam_list:\n",
    "        smis.append(smi_nam.rstrip().split(' ')[0])\n",
    "        nams.append(smi_nam.rstrip().split(' ')[1])\n",
    "\n",
    "print(str(len(smis))+\" molecules loaded from SMILES file\")\n",
    "\n",
    "# print(smis)\n",
    "# print(nams)"
   ]
  },
  {
   "cell_type": "code",
   "execution_count": 118,
   "metadata": {},
   "outputs": [],
   "source": [
    "g = nx.Graph()\n",
    "\n",
    "# add node\n",
    "for smi,nam in zip(smis,nams):\n",
    "    #print(smi,nam)\n",
    "    g.add_node(smi, img=smi2image(smi), name=nam)\n",
    "\n",
    "# add edge if Tc >= threshold\n",
    "mols = [Chem.MolFromSmiles(x) for x in smis]\n",
    "fps = [AllChem.GetMorganFingerprintAsBitVect(x,2,1024) for x in mols]\n",
    "for i in range(len(smis)):\n",
    "    for j in range(i):\n",
    "        Tc = DataStructs.TanimotoSimilarity(fps[i], fps[j])\n",
    "        if Tc >= 0.3:\n",
    "            g.add_edge(smis[i], smis[j])\n",
    "\n",
    "# style\n",
    "stobj=[\n",
    "  {'style': [{'css': {\n",
    "      'background-color': 'blue',\n",
    "      'shape' : 'rectangle',\n",
    "      'width':800,\n",
    "      'height':400,\n",
    "      'border-color': 'rgb(0,0,0)',\n",
    "      'border-opacity': 1.0,\n",
    "      'border-width': 0.0,\n",
    "      'color': '#4579e8',\n",
    "      'background-image':'data(img)',\n",
    "      'background-fit':'contain',\n",
    "      'content':'data(name)',\n",
    "      'font-size': '70px',\n",
    "                    },\n",
    "    'selector': 'node'},\n",
    "            {'css': {\n",
    "                'width': 20.0,\n",
    "            },\n",
    "            'selector': 'edge'}\n",
    "            ],\n",
    "  }]"
   ]
  },
  {
   "cell_type": "code",
   "execution_count": 120,
   "metadata": {},
   "outputs": [
    {
     "data": {
      "application/vnd.jupyter.widget-view+json": {
       "model_id": "29d8402a95074eecacfccbc237f627ef",
       "version_major": 2,
       "version_minor": 0
      },
      "text/plain": [
       "Cytoscape(data={'data': [], 'directed': False, 'multigraph': False, 'elements': {'nodes': [{'data': {'img': 'd…"
      ]
     },
     "metadata": {},
     "output_type": "display_data"
    }
   ],
   "source": [
    "Cytoscape(data=cytoscape_data(g), visual_style=stobj[0]['style'], layout_name='cose')"
   ]
  },
  {
   "cell_type": "code",
   "execution_count": null,
   "metadata": {},
   "outputs": [],
   "source": []
  }
 ],
 "metadata": {
  "kernelspec": {
   "display_name": "Python 3",
   "language": "python",
   "name": "python3"
  },
  "language_info": {
   "codemirror_mode": {
    "name": "ipython",
    "version": 3
   },
   "file_extension": ".py",
   "mimetype": "text/x-python",
   "name": "python",
   "nbconvert_exporter": "python",
   "pygments_lexer": "ipython3",
   "version": "3.6.7"
  }
 },
 "nbformat": 4,
 "nbformat_minor": 2
}
